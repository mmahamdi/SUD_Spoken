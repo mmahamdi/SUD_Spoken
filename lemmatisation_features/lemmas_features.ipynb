{
 "cells": [
  {
   "cell_type": "code",
   "execution_count": 6,
   "metadata": {},
   "outputs": [
    {
     "name": "stdout",
     "output_type": "stream",
     "text": [
      "Gender=Fem|Number=Sing\n",
      "affairer\n"
     ]
    }
   ],
   "source": [
    "import pickle\n",
    "dico_features=pickle.load(open('dico_features_lefff.p', 'rb'))\n",
    "features={'s':'Number=Sing','fs' : 'Gender=Fem|Number=Sing', 'ms' : 'Gender=Masc|Number=Sing','mp' : 'Gender=Masc|Number=Plur', 'fp' : 'Gender=Fem|Number=Plur', 'p' : 'Number=Plur','f' : 'Gender=Fem', 'm' : 'Gender=Masc'  }\n",
    "print(features[dico_features[\"amie\"][-1]])\n",
    "\n",
    "dico_lemmas=pickle.load(open('dico_lemmas_lefff.p', 'rb'))\n",
    "print(dico_lemmas[\"affaire\"])"
   ]
  },
  {
   "cell_type": "code",
   "execution_count": null,
   "metadata": {},
   "outputs": [],
   "source": [
    "# lemmatiser fichier conll\n",
    "import re\n",
    "with open('all_manquants_lemmatises.conllu', 'w', encoding='utf-8', newline='\\n') as outfile:\n",
    "    with open('all_manquants.conllu', 'r', encoding='utf-8', newline='\\n') as infile:\n",
    "        for line in infile:\n",
    "            if re.search(r\"NOUN|ADJ|VERB|AUX\", line):\n",
    "                liste=line.split(\"\\t\")\n",
    "                if liste[1] in dico_lemmas.keys():\n",
    "                    liste[2]=dico_lemmas[liste[1]]\n",
    "                    outfile.write(\"\\t\".join(liste))\n",
    "                else:\n",
    "                    outfile.write(line)\n",
    "            else:\n",
    "                outfile.write(line)\n",
    "#ajouter les traits sur un fichier              \n",
    "outfile=open('all_manquants_lemmatises_featurises.conllu', 'w', encoding='utf-8', newline='\\n')\n",
    "with open('all_manquants_lemmatises.conllu', 'r', encoding='utf-8', newline='\\n') as infile:\n",
    "    for line in infile:\n",
    "        if re.search(r\"NOUN|ADJ\", line):\n",
    "            liste=line.split(\"\\t\")\n",
    "            if liste[1] in dico_features.keys():\n",
    "                liste[5]=features[dico_features[liste[1]][-1]]\n",
    "                print(\"\\t\".join(liste))\n",
    "                outfile.write(\"\\t\".join(liste))\n",
    "            else:\n",
    "                outfile.write(line)\n",
    "        else:\n",
    "            outfile.write(line)\n",
    "                \n",
    "outfile.close()       "
   ]
  }
 ],
 "metadata": {
  "kernelspec": {
   "display_name": "Python 3",
   "language": "python",
   "name": "python3"
  },
  "language_info": {
   "codemirror_mode": {
    "name": "ipython",
    "version": 3
   },
   "file_extension": ".py",
   "mimetype": "text/x-python",
   "name": "python",
   "nbconvert_exporter": "python",
   "pygments_lexer": "ipython3",
   "version": "3.8.3"
  }
 },
 "nbformat": 4,
 "nbformat_minor": 4
}
